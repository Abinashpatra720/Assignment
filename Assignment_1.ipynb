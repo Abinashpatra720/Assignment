{
  "nbformat": 4,
  "nbformat_minor": 0,
  "metadata": {
    "colab": {
      "name": "Assignment 1.ipynb",
      "provenance": []
    },
    "kernelspec": {
      "name": "python3",
      "display_name": "Python 3"
    },
    "language_info": {
      "name": "python"
    }
  },
  "cells": [
    {
      "cell_type": "markdown",
      "metadata": {
        "id": "sTlji9eQKE7T"
      },
      "source": [
        "# Question1"
      ]
    },
    {
      "cell_type": "code",
      "metadata": {
        "id": "aQozB9WNJtD9"
      },
      "source": [
        "sevenlist = []\n",
        "fivelist = []\n",
        "for i in range(2000,3200):\n",
        "  if i%7==0:\n",
        "    sevenlist.append(i)\n",
        "  if i%5==0:\n",
        "    fivelist.append(i)"
      ],
      "execution_count": 5,
      "outputs": []
    },
    {
      "cell_type": "code",
      "metadata": {
        "colab": {
          "base_uri": "https://localhost:8080/"
        },
        "id": "KBKu2Ma8LoMa",
        "outputId": "4c9f34d9-65b9-4efc-ddc2-41e5d2f890f4"
      },
      "source": [
        "answer = list(set(sevenlist) - set(fivelist))\n",
        "for i in answer:\n",
        "  print(i,end=',')"
      ],
      "execution_count": 13,
      "outputs": [
        {
          "output_type": "stream",
          "name": "stdout",
          "text": [
            "3073,2562,2051,2569,2058,3087,2576,3094,2583,2072,3101,2079,3108,2597,2086,2604,2093,3122,2611,3129,2618,2107,3136,2114,3143,2632,2121,2639,2128,3157,2646,3164,2653,2142,3171,2149,3178,2667,2156,2674,2163,3192,2681,3199,2688,2177,2184,2702,2191,2709,2198,2716,2723,2212,2219,2737,2226,2744,2233,2751,2758,2247,2254,2772,2261,2779,2268,2786,2793,2282,2289,2807,2296,2814,2303,2821,2828,2317,2324,2842,2331,2849,2338,2856,2863,2352,2359,2877,2366,2884,2373,2891,2898,2387,2394,2912,2401,2919,2408,2926,2933,2422,2429,2947,2436,2954,2443,2961,2968,2457,2464,2982,2471,2989,2478,2996,3003,2492,2499,3017,2506,3024,2513,2002,3031,2009,3038,2527,2016,2534,2023,3052,2541,3059,2548,2037,3066,2044,"
          ]
        }
      ]
    },
    {
      "cell_type": "markdown",
      "metadata": {
        "id": "vrxHLFeJOqmA"
      },
      "source": [
        "# Question 2"
      ]
    },
    {
      "cell_type": "code",
      "metadata": {
        "colab": {
          "base_uri": "https://localhost:8080/"
        },
        "id": "YNU3YWbUNI2f",
        "outputId": "5b45bdcb-7db5-4ec0-ef21-d1212ffb5742"
      },
      "source": [
        "first_name = input('Input your first name:')\n",
        "last_name = input('Input your last name:')\n",
        "\n",
        "print(last_name + ' ' + first_name)"
      ],
      "execution_count": 16,
      "outputs": [
        {
          "output_type": "stream",
          "name": "stdout",
          "text": [
            "Input your first name:Abinash\n",
            "Input your last name:Patra\n",
            "Patra Abinash\n"
          ]
        }
      ]
    },
    {
      "cell_type": "markdown",
      "metadata": {
        "id": "RIfS2nNnSD1Z"
      },
      "source": [
        "# Question 3"
      ]
    },
    {
      "cell_type": "code",
      "metadata": {
        "colab": {
          "base_uri": "https://localhost:8080/"
        },
        "id": "VxI1ocm6QCSv",
        "outputId": "6abc6c42-50b9-48a0-8c6a-ffa58700c151"
      },
      "source": [
        "from math import pi\n",
        "\n",
        "answer = 4/3 * pi * 6**3\n",
        "print(answer)"
      ],
      "execution_count": 17,
      "outputs": [
        {
          "output_type": "stream",
          "name": "stdout",
          "text": [
            "904.7786842338603\n"
          ]
        }
      ]
    },
    {
      "cell_type": "code",
      "metadata": {
        "id": "K845j-hES1VH"
      },
      "source": [
        ""
      ],
      "execution_count": null,
      "outputs": []
    }
  ]
}